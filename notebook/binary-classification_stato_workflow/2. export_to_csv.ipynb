{
 "cells": [
  {
   "cell_type": "code",
   "execution_count": 1,
   "metadata": {},
   "outputs": [],
   "source": [
    "import sys\n",
    "sys.path.append('../../src')\n",
    "from config import Paths"
   ]
  },
  {
   "cell_type": "code",
   "execution_count": 5,
   "metadata": {},
   "outputs": [],
   "source": [
    "import pickle\n",
    "import pprint\n",
    "import pandas as pd\n",
    "import pickle\n",
    "\n",
    "# langs = [\"all\", \"EN\", \"IT\"]\n",
    "langs = [\"all\"]\n",
    "\n",
    "df = pd.read_csv(\n",
    "    Paths.testnino1_classification_task,\n",
    "    usecols=[\"id\", \"Lang\", \"Data\", \"Link\", \"Titolo\", \"Testo\", \"Stato Workflow\"],\n",
    ")\n",
    "\n",
    "df[\"Data\"] = pd.to_datetime(df[\"Data\"])\n",
    "\n",
    "target_column = \"Stato Workflow\"\n",
    "# remove rows not validated by the analyst\n",
    "df = df[df[target_column] != \"N\"]\n",
    "\n",
    "headers = {}\n",
    "datas = {}\n",
    "\n",
    "for lang in langs:\n",
    "    datas[lang] = []\n",
    "    if lang == \"all\":\n",
    "        df_lang = df\n",
    "    else:\n",
    "        df_lang = df[df[\"Lang\"] == lang]\n",
    "    tot = df_lang.shape[0]\n",
    "    Y_count = df_lang[df_lang[\"Stato Workflow\"] == \"Y\"].shape[0]\n",
    "    D_count = df_lang[df_lang[\"Stato Workflow\"] == \"D\"].shape[0]\n",
    "\n",
    "    headers[lang] = [[\"tot\", \"Y_count\", \"D_count\"], [tot, Y_count, D_count]]\n",
    "\n",
    "    # Load the dictionaries from the file\n",
    "    with open(f\"results_{lang}.pkl\", \"rb\") as file:\n",
    "        cms = pickle.load(file)\n",
    "        accuracies = pickle.load(file)\n",
    "        fit_times = pickle.load(file)\n",
    "        prediction_times = pickle.load(file)\n",
    "\n",
    "        for key, value in accuracies.items():\n",
    "            data = []\n",
    "            key_parts = key.split(\"-\", 3)\n",
    "            if len(key_parts) >= 3:\n",
    "                argomento = key_parts[0]\n",
    "                train_size = key_parts[1]\n",
    "                classifier_name = key_parts[2]\n",
    "                hyperparams = key_parts[3]\n",
    "\n",
    "                data.append(argomento)\n",
    "                data.append(train_size)\n",
    "                data.append(classifier_name)\n",
    "                data.append(round(value, 2))\n",
    "\n",
    "            for cm_value in cms[key].flatten().tolist():\n",
    "                data.append(cm_value)\n",
    "\n",
    "            data.append(round(fit_times[key], 2))\n",
    "            data.append(round(prediction_times[key], 2))\n",
    "            data.append(f'\"{hyperparams}\"')\n",
    "            datas[lang].append(data)\n"
   ]
  },
  {
   "cell_type": "code",
   "execution_count": 4,
   "metadata": {},
   "outputs": [],
   "source": [
    "import csv\n",
    "\n",
    "for lang in langs:\n",
    "\n",
    "    output_path = f'output_{lang}.csv'\n",
    "\n",
    "    with open(output_path, 'w', newline='') as file:\n",
    "        writer = csv.writer(file)\n",
    "        writer = csv.writer(file)\n",
    "        writer.writerows(headers[lang])\n",
    "        writer.writerows(datas[lang])"
   ]
  },
  {
   "cell_type": "code",
   "execution_count": null,
   "metadata": {},
   "outputs": [],
   "source": []
  }
 ],
 "metadata": {
  "kernelspec": {
   "display_name": "Python 3 (ipykernel)",
   "language": "python",
   "name": "python3"
  },
  "language_info": {
   "codemirror_mode": {
    "name": "ipython",
    "version": 3
   },
   "file_extension": ".py",
   "mimetype": "text/x-python",
   "name": "python",
   "nbconvert_exporter": "python",
   "pygments_lexer": "ipython3",
   "version": "3.10.6"
  }
 },
 "nbformat": 4,
 "nbformat_minor": 4
}
