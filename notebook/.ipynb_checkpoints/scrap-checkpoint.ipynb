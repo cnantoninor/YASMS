{
 "cells": [
  {
   "cell_type": "code",
   "execution_count": 9,
   "id": "initial_id",
   "metadata": {
    "ExecuteTime": {
     "end_time": "2024-01-12T14:06:39.867126077Z",
     "start_time": "2024-01-12T14:06:39.862495913Z"
    },
    "collapsed": true,
    "jupyter": {
     "outputs_hidden": true
    }
   },
   "outputs": [],
   "source": []
  },
  {
   "cell_type": "code",
   "execution_count": 10,
   "id": "35dfe875f83db61e",
   "metadata": {
    "ExecuteTime": {
     "end_time": "2024-01-12T14:06:39.915642630Z",
     "start_time": "2024-01-12T14:06:39.914698214Z"
    },
    "collapsed": false,
    "jupyter": {
     "outputs_hidden": false
    }
   },
   "outputs": [],
   "source": [
    "from langchain.document_loaders import BSHTMLLoader\n",
    "from langchain.embeddings.openai import OpenAIEmbeddings\n",
    "from langchain.text_splitter import RecursiveCharacterTextSplitter\n",
    "from langchain.vectorstores import ElasticVectorSearch\n"
   ]
  },
  {
   "cell_type": "code",
   "execution_count": 2,
   "id": "ac127914399c8130",
   "metadata": {
    "ExecuteTime": {
     "end_time": "2024-01-12T14:06:39.917226409Z",
     "start_time": "2024-01-12T14:06:39.914965511Z"
    },
    "collapsed": false,
    "jupyter": {
     "outputs_hidden": false
    }
   },
   "outputs": [],
   "source": [
    "from src.config import Paths\n",
    "from langchain.embeddings.openai import OpenAIEmbeddings\n",
    "from langchain.vectorstores import Chroma\n",
    "from langchain.text_splitter import CharacterTextSplitter\n",
    "from langchain import OpenAI, VectorDBQA\n",
    "from langchain.document_loaders import DirectoryLoader\n",
    "from langchain.document_loaders.csv_loader import CSVLoader\n",
    "import os\n",
    "\n",
    "loader = CSVLoader(\n",
    "    file_path=str(Paths.mrau_weblive_project1),\n",
    "    source_column=\"Link\",\n",
    "    csv_args={\n",
    "        \"delimiter\": \"\\t\",\n",
    "    },\n",
    ")\n",
    "documents = loader.load()\n",
    "\n"
   ]
  },
  {
   "cell_type": "code",
   "execution_count": 4,
   "id": "f7a13da4b6ebfae3",
   "metadata": {
    "ExecuteTime": {
     "start_time": "2024-01-12T14:06:39.915191250Z"
    },
    "collapsed": false,
    "jupyter": {
     "outputs_hidden": false
    }
   },
   "outputs": [
    {
     "data": {
      "text/plain": [
       "Document(page_content=\"\\ufeffid: 01221909714\\nSito: WWW.REDDIT.COM\\nData: 2023-11-14\\nFonte: REDDIT\\nArgomento: FASHION COLLECTION 2010\\nLink: https://www.reddit.com/r/DealAndSale/comments/17v1zea/59_price_drop_699_disney_doorables_pixar_fest/\\nTitolo: r/DealAndSale\\nTesto: r/DealAndSale 🔥59% Price Drop – $6.99 Disney Doorables Pixar Fest Collection Peek, Officially Licensed Kids Toys!!\\nSentiment: negative\\nTag: \\nLang: EN\\nNote: \\nBookmark: \\nRilevanza (0-10): 4,5\\nPaese: UNKNOWN\\nValorizzazione (AVE): 23\\nEngagement: 0\\nCondivisioni: 0\\nLikes: 0\\nReTweet: 0\\nCommenti: 0\\nVisualizzazioni: 0\\nStato Workflow: N\\nLocale: \\nImmagine: https://b.thumbs.redditmedia.com/07UQj7l041yPcXbeQmYxx6jMGp3EKLtDx10Bi1wxhJw.jpg\\nAudience: 4455\\nAutore: r/DealAndSale\\npublished by: cbvv1992\\nfbrc_love: 0\\nfbrc_wow: 0\\nfbrc_haha: 0\\nfbrc_sad: 0\\nfbrc_angry: 0\\nfbrc_thankful: 0\\nLista Features: \\nLista Topics: \\nVisualizzazioni stimate: 1336\\nLatitudine: 0\\nLongitudine: 0\\nmood: N00\\nEta' gruppo: \\nGenere: \\ntipo post: P\\n: \", metadata={'source': '/home/arau6/Projects/semsearch-wl-poc/src/data/wl_mrproject/mention_1305_2024-01-11-174801.csv', 'row': 0})"
      ]
     },
     "execution_count": 4,
     "metadata": {},
     "output_type": "execute_result"
    }
   ],
   "source": [
    "documents[0]"
   ]
  },
  {
   "cell_type": "code",
   "execution_count": null,
   "id": "97e350439f4528b1",
   "metadata": {
    "ExecuteTime": {
     "start_time": "2024-01-12T14:06:39.915378859Z"
    },
    "collapsed": false,
    "jupyter": {
     "outputs_hidden": false
    }
   },
   "outputs": [],
   "source": []
  }
 ],
 "metadata": {
  "kernelspec": {
   "display_name": "Python 3 (ipykernel)",
   "language": "python",
   "name": "python3"
  },
  "language_info": {
   "codemirror_mode": {
    "name": "ipython",
    "version": 3
   },
   "file_extension": ".py",
   "mimetype": "text/x-python",
   "name": "python",
   "nbconvert_exporter": "python",
   "pygments_lexer": "ipython3",
   "version": "3.11.6"
  }
 },
 "nbformat": 4,
 "nbformat_minor": 5
}
